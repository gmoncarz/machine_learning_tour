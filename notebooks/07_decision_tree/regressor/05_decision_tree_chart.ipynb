{
 "cells": [
  {
   "cell_type": "markdown",
   "metadata": {},
   "source": [
    "# Decision Tree graphical visualization"
   ]
  },
  {
   "cell_type": "markdown",
   "metadata": {},
   "source": [
    "This notebook is going to graphically represent the best decision tree built up to the moment."
   ]
  },
  {
   "cell_type": "code",
   "execution_count": 1,
   "metadata": {},
   "outputs": [],
   "source": [
    "import logging\n",
    "import imp\n",
    "from dateutil.relativedelta import relativedelta\n",
    "from collections import OrderedDict\n",
    "import sys"
   ]
  },
  {
   "cell_type": "code",
   "execution_count": 40,
   "metadata": {},
   "outputs": [],
   "source": [
    "import pandas as pd\n",
    "from sklearn.tree import DecisionTreeRegressor\n",
    "from sklearn.tree import export_graphviz"
   ]
  },
  {
   "cell_type": "code",
   "execution_count": 21,
   "metadata": {},
   "outputs": [],
   "source": [
    "sys.path.append('../..')\n",
    "\n",
    "from helpers.dataset import read_quote_dataset, preprocess_quotes\n",
    "from helpers.backtest import train_model_and_backtest_regressor, get_backtest_performance_metrics\n",
    "from helpers.visualization import plot_return\n",
    "from helpers.machine_learning import train_model, get_trailing_df"
   ]
  },
  {
   "cell_type": "code",
   "execution_count": 4,
   "metadata": {},
   "outputs": [],
   "source": [
    "# Configir logging module for jypter notebook\n",
    "imp.reload(logging)\n",
    "logging_format = '%(asctime)s - %(levelname)s - %(process)s - %(message)s'\n",
    "logging.basicConfig(level=logging.DEBUG, format=logging_format)\n",
    "\n",
    "# Disable backtesting logs\n",
    "logging.getLogger('helpers.backtest').setLevel(level=logging.WARNING)"
   ]
  },
  {
   "cell_type": "code",
   "execution_count": 5,
   "metadata": {},
   "outputs": [],
   "source": [
    "PARAM_DATASET = '../../../data/SPY_postprocess_adj.csv.gz'"
   ]
  },
  {
   "cell_type": "code",
   "execution_count": 6,
   "metadata": {},
   "outputs": [],
   "source": [
    "df = read_quote_dataset(PARAM_DATASET)"
   ]
  },
  {
   "cell_type": "code",
   "execution_count": 7,
   "metadata": {},
   "outputs": [
    {
     "data": {
      "text/html": [
       "<div>\n",
       "<style scoped>\n",
       "    .dataframe tbody tr th:only-of-type {\n",
       "        vertical-align: middle;\n",
       "    }\n",
       "\n",
       "    .dataframe tbody tr th {\n",
       "        vertical-align: top;\n",
       "    }\n",
       "\n",
       "    .dataframe thead th {\n",
       "        text-align: right;\n",
       "    }\n",
       "</style>\n",
       "<table border=\"1\" class=\"dataframe\">\n",
       "  <thead>\n",
       "    <tr style=\"text-align: right;\">\n",
       "      <th></th>\n",
       "      <th>date</th>\n",
       "      <th>open</th>\n",
       "      <th>high</th>\n",
       "      <th>low</th>\n",
       "      <th>close</th>\n",
       "      <th>close_adj</th>\n",
       "      <th>volume</th>\n",
       "      <th>open_adj</th>\n",
       "      <th>low_adj</th>\n",
       "      <th>high_adj</th>\n",
       "      <th>...</th>\n",
       "      <th>ratio_close_adj_000_close_adj_005_norm</th>\n",
       "      <th>ratio_close_adj_000_close_adj_020_norm</th>\n",
       "      <th>ratio_close_adj_000_ema_005_norm</th>\n",
       "      <th>ratio_close_adj_000_ema_010_norm</th>\n",
       "      <th>ratio_close_adj_000_ema_020_norm</th>\n",
       "      <th>ratio_close_adj_000_ema_050_norm</th>\n",
       "      <th>ratio_close_adj_000_sma_005_norm</th>\n",
       "      <th>ratio_close_adj_000_sma_010_norm</th>\n",
       "      <th>ratio_close_adj_000_sma_020_norm</th>\n",
       "      <th>ratio_close_adj_000_sma_050_norm</th>\n",
       "    </tr>\n",
       "  </thead>\n",
       "  <tbody>\n",
       "    <tr>\n",
       "      <th>0</th>\n",
       "      <td>2000-01-03</td>\n",
       "      <td>148.250000</td>\n",
       "      <td>148.250000</td>\n",
       "      <td>143.875000</td>\n",
       "      <td>145.4375</td>\n",
       "      <td>101.425385</td>\n",
       "      <td>8164300</td>\n",
       "      <td>103.386770</td>\n",
       "      <td>100.335727</td>\n",
       "      <td>103.386770</td>\n",
       "      <td>...</td>\n",
       "      <td>NaN</td>\n",
       "      <td>NaN</td>\n",
       "      <td>NaN</td>\n",
       "      <td>NaN</td>\n",
       "      <td>NaN</td>\n",
       "      <td>NaN</td>\n",
       "      <td>NaN</td>\n",
       "      <td>NaN</td>\n",
       "      <td>NaN</td>\n",
       "      <td>NaN</td>\n",
       "    </tr>\n",
       "    <tr>\n",
       "      <th>1</th>\n",
       "      <td>2000-01-04</td>\n",
       "      <td>143.531204</td>\n",
       "      <td>144.062500</td>\n",
       "      <td>139.640594</td>\n",
       "      <td>139.7500</td>\n",
       "      <td>97.459068</td>\n",
       "      <td>8089800</td>\n",
       "      <td>100.096010</td>\n",
       "      <td>97.382770</td>\n",
       "      <td>100.466526</td>\n",
       "      <td>...</td>\n",
       "      <td>NaN</td>\n",
       "      <td>NaN</td>\n",
       "      <td>NaN</td>\n",
       "      <td>NaN</td>\n",
       "      <td>NaN</td>\n",
       "      <td>NaN</td>\n",
       "      <td>NaN</td>\n",
       "      <td>NaN</td>\n",
       "      <td>NaN</td>\n",
       "      <td>NaN</td>\n",
       "    </tr>\n",
       "    <tr>\n",
       "      <th>2</th>\n",
       "      <td>2000-01-05</td>\n",
       "      <td>139.937500</td>\n",
       "      <td>141.531204</td>\n",
       "      <td>137.250000</td>\n",
       "      <td>140.0000</td>\n",
       "      <td>97.633377</td>\n",
       "      <td>12177900</td>\n",
       "      <td>97.589791</td>\n",
       "      <td>95.715579</td>\n",
       "      <td>98.701210</td>\n",
       "      <td>...</td>\n",
       "      <td>NaN</td>\n",
       "      <td>NaN</td>\n",
       "      <td>NaN</td>\n",
       "      <td>NaN</td>\n",
       "      <td>NaN</td>\n",
       "      <td>NaN</td>\n",
       "      <td>NaN</td>\n",
       "      <td>NaN</td>\n",
       "      <td>NaN</td>\n",
       "      <td>NaN</td>\n",
       "    </tr>\n",
       "    <tr>\n",
       "      <th>3</th>\n",
       "      <td>2000-01-06</td>\n",
       "      <td>139.625000</td>\n",
       "      <td>141.500000</td>\n",
       "      <td>137.750000</td>\n",
       "      <td>137.7500</td>\n",
       "      <td>96.064301</td>\n",
       "      <td>6227200</td>\n",
       "      <td>97.371891</td>\n",
       "      <td>96.064301</td>\n",
       "      <td>98.679482</td>\n",
       "      <td>...</td>\n",
       "      <td>NaN</td>\n",
       "      <td>NaN</td>\n",
       "      <td>0.486630</td>\n",
       "      <td>NaN</td>\n",
       "      <td>NaN</td>\n",
       "      <td>NaN</td>\n",
       "      <td>NaN</td>\n",
       "      <td>NaN</td>\n",
       "      <td>NaN</td>\n",
       "      <td>NaN</td>\n",
       "    </tr>\n",
       "    <tr>\n",
       "      <th>4</th>\n",
       "      <td>2000-01-07</td>\n",
       "      <td>140.312500</td>\n",
       "      <td>145.750000</td>\n",
       "      <td>140.062500</td>\n",
       "      <td>145.7500</td>\n",
       "      <td>101.643333</td>\n",
       "      <td>8066500</td>\n",
       "      <td>97.851322</td>\n",
       "      <td>97.676977</td>\n",
       "      <td>101.643333</td>\n",
       "      <td>...</td>\n",
       "      <td>NaN</td>\n",
       "      <td>NaN</td>\n",
       "      <td>0.815422</td>\n",
       "      <td>NaN</td>\n",
       "      <td>NaN</td>\n",
       "      <td>NaN</td>\n",
       "      <td>0.740588</td>\n",
       "      <td>NaN</td>\n",
       "      <td>NaN</td>\n",
       "      <td>NaN</td>\n",
       "    </tr>\n",
       "  </tbody>\n",
       "</table>\n",
       "<p>5 rows × 173 columns</p>\n",
       "</div>"
      ],
      "text/plain": [
       "        date        open        high         low     close   close_adj  \\\n",
       "0 2000-01-03  148.250000  148.250000  143.875000  145.4375  101.425385   \n",
       "1 2000-01-04  143.531204  144.062500  139.640594  139.7500   97.459068   \n",
       "2 2000-01-05  139.937500  141.531204  137.250000  140.0000   97.633377   \n",
       "3 2000-01-06  139.625000  141.500000  137.750000  137.7500   96.064301   \n",
       "4 2000-01-07  140.312500  145.750000  140.062500  145.7500  101.643333   \n",
       "\n",
       "     volume    open_adj     low_adj    high_adj  ...  \\\n",
       "0   8164300  103.386770  100.335727  103.386770  ...   \n",
       "1   8089800  100.096010   97.382770  100.466526  ...   \n",
       "2  12177900   97.589791   95.715579   98.701210  ...   \n",
       "3   6227200   97.371891   96.064301   98.679482  ...   \n",
       "4   8066500   97.851322   97.676977  101.643333  ...   \n",
       "\n",
       "   ratio_close_adj_000_close_adj_005_norm  \\\n",
       "0                                     NaN   \n",
       "1                                     NaN   \n",
       "2                                     NaN   \n",
       "3                                     NaN   \n",
       "4                                     NaN   \n",
       "\n",
       "   ratio_close_adj_000_close_adj_020_norm  ratio_close_adj_000_ema_005_norm  \\\n",
       "0                                     NaN                               NaN   \n",
       "1                                     NaN                               NaN   \n",
       "2                                     NaN                               NaN   \n",
       "3                                     NaN                          0.486630   \n",
       "4                                     NaN                          0.815422   \n",
       "\n",
       "   ratio_close_adj_000_ema_010_norm  ratio_close_adj_000_ema_020_norm  \\\n",
       "0                               NaN                               NaN   \n",
       "1                               NaN                               NaN   \n",
       "2                               NaN                               NaN   \n",
       "3                               NaN                               NaN   \n",
       "4                               NaN                               NaN   \n",
       "\n",
       "   ratio_close_adj_000_ema_050_norm  ratio_close_adj_000_sma_005_norm  \\\n",
       "0                               NaN                               NaN   \n",
       "1                               NaN                               NaN   \n",
       "2                               NaN                               NaN   \n",
       "3                               NaN                               NaN   \n",
       "4                               NaN                          0.740588   \n",
       "\n",
       "   ratio_close_adj_000_sma_010_norm  ratio_close_adj_000_sma_020_norm  \\\n",
       "0                               NaN                               NaN   \n",
       "1                               NaN                               NaN   \n",
       "2                               NaN                               NaN   \n",
       "3                               NaN                               NaN   \n",
       "4                               NaN                               NaN   \n",
       "\n",
       "   ratio_close_adj_000_sma_050_norm  \n",
       "0                               NaN  \n",
       "1                               NaN  \n",
       "2                               NaN  \n",
       "3                               NaN  \n",
       "4                               NaN  \n",
       "\n",
       "[5 rows x 173 columns]"
      ]
     },
     "execution_count": 7,
     "metadata": {},
     "output_type": "execute_result"
    }
   ],
   "source": [
    "df.head()"
   ]
  },
  {
   "cell_type": "code",
   "execution_count": 8,
   "metadata": {},
   "outputs": [],
   "source": [
    "vars_to_shift = ['close_adj', 'close_adj_norm', 'close_adj_std']\n",
    "shift_periods = [1, 5, 10, 20]\n",
    "vars_for_return = ['close_adj']\n",
    "return_periods = [1, 5, 10, 20]"
   ]
  },
  {
   "cell_type": "code",
   "execution_count": 9,
   "metadata": {},
   "outputs": [],
   "source": [
    "df = preprocess_quotes(\n",
    "    df, vars_to_shift=vars_to_shift, shift_periods=shift_periods,\n",
    "    vars_for_return=vars_for_return, return_periods=return_periods,\n",
    "    shift_date=True\n",
    ")"
   ]
  },
  {
   "cell_type": "code",
   "execution_count": 10,
   "metadata": {
    "scrolled": false
   },
   "outputs": [
    {
     "data": {
      "text/html": [
       "<div>\n",
       "<style scoped>\n",
       "    .dataframe tbody tr th:only-of-type {\n",
       "        vertical-align: middle;\n",
       "    }\n",
       "\n",
       "    .dataframe tbody tr th {\n",
       "        vertical-align: top;\n",
       "    }\n",
       "\n",
       "    .dataframe thead th {\n",
       "        text-align: right;\n",
       "    }\n",
       "</style>\n",
       "<table border=\"1\" class=\"dataframe\">\n",
       "  <thead>\n",
       "    <tr style=\"text-align: right;\">\n",
       "      <th></th>\n",
       "      <th>date</th>\n",
       "      <th>close_adj</th>\n",
       "      <th>date_shift_1</th>\n",
       "      <th>close_adj_shift_1</th>\n",
       "      <th>close_adj_ret_1</th>\n",
       "      <th>date_shift_5</th>\n",
       "      <th>close_adj_shift_5</th>\n",
       "      <th>close_adj_ret_5</th>\n",
       "    </tr>\n",
       "  </thead>\n",
       "  <tbody>\n",
       "    <tr>\n",
       "      <th>0</th>\n",
       "      <td>2000-01-03</td>\n",
       "      <td>101.425385</td>\n",
       "      <td>2000-01-04</td>\n",
       "      <td>97.459068</td>\n",
       "      <td>-0.039106</td>\n",
       "      <td>2000-01-10</td>\n",
       "      <td>101.992004</td>\n",
       "      <td>0.005587</td>\n",
       "    </tr>\n",
       "    <tr>\n",
       "      <th>1</th>\n",
       "      <td>2000-01-04</td>\n",
       "      <td>97.459068</td>\n",
       "      <td>2000-01-05</td>\n",
       "      <td>97.633377</td>\n",
       "      <td>0.001789</td>\n",
       "      <td>2000-01-11</td>\n",
       "      <td>100.771645</td>\n",
       "      <td>0.033989</td>\n",
       "    </tr>\n",
       "    <tr>\n",
       "      <th>2</th>\n",
       "      <td>2000-01-05</td>\n",
       "      <td>97.633377</td>\n",
       "      <td>2000-01-06</td>\n",
       "      <td>96.064301</td>\n",
       "      <td>-0.016071</td>\n",
       "      <td>2000-01-12</td>\n",
       "      <td>99.769150</td>\n",
       "      <td>0.021875</td>\n",
       "    </tr>\n",
       "    <tr>\n",
       "      <th>3</th>\n",
       "      <td>2000-01-06</td>\n",
       "      <td>96.064301</td>\n",
       "      <td>2000-01-07</td>\n",
       "      <td>101.643333</td>\n",
       "      <td>0.058076</td>\n",
       "      <td>2000-01-13</td>\n",
       "      <td>101.120308</td>\n",
       "      <td>0.052631</td>\n",
       "    </tr>\n",
       "    <tr>\n",
       "      <th>4</th>\n",
       "      <td>2000-01-07</td>\n",
       "      <td>101.643333</td>\n",
       "      <td>2000-01-10</td>\n",
       "      <td>101.992004</td>\n",
       "      <td>0.003430</td>\n",
       "      <td>2000-01-14</td>\n",
       "      <td>102.493233</td>\n",
       "      <td>0.008362</td>\n",
       "    </tr>\n",
       "    <tr>\n",
       "      <th>5</th>\n",
       "      <td>2000-01-10</td>\n",
       "      <td>101.992004</td>\n",
       "      <td>2000-01-11</td>\n",
       "      <td>100.771645</td>\n",
       "      <td>-0.011965</td>\n",
       "      <td>2000-01-18</td>\n",
       "      <td>101.686958</td>\n",
       "      <td>-0.002991</td>\n",
       "    </tr>\n",
       "    <tr>\n",
       "      <th>6</th>\n",
       "      <td>2000-01-11</td>\n",
       "      <td>100.771645</td>\n",
       "      <td>2000-01-12</td>\n",
       "      <td>99.769150</td>\n",
       "      <td>-0.009948</td>\n",
       "      <td>2000-01-19</td>\n",
       "      <td>102.515060</td>\n",
       "      <td>0.017301</td>\n",
       "    </tr>\n",
       "    <tr>\n",
       "      <th>7</th>\n",
       "      <td>2000-01-12</td>\n",
       "      <td>99.769150</td>\n",
       "      <td>2000-01-13</td>\n",
       "      <td>101.120308</td>\n",
       "      <td>0.013543</td>\n",
       "      <td>2000-01-20</td>\n",
       "      <td>100.945953</td>\n",
       "      <td>0.011795</td>\n",
       "    </tr>\n",
       "    <tr>\n",
       "      <th>8</th>\n",
       "      <td>2000-01-13</td>\n",
       "      <td>101.120308</td>\n",
       "      <td>2000-01-14</td>\n",
       "      <td>102.493233</td>\n",
       "      <td>0.013577</td>\n",
       "      <td>2000-01-21</td>\n",
       "      <td>100.727989</td>\n",
       "      <td>-0.003880</td>\n",
       "    </tr>\n",
       "    <tr>\n",
       "      <th>9</th>\n",
       "      <td>2000-01-14</td>\n",
       "      <td>102.493233</td>\n",
       "      <td>2000-01-18</td>\n",
       "      <td>101.686958</td>\n",
       "      <td>-0.007867</td>\n",
       "      <td>2000-01-24</td>\n",
       "      <td>97.873047</td>\n",
       "      <td>-0.045078</td>\n",
       "    </tr>\n",
       "  </tbody>\n",
       "</table>\n",
       "</div>"
      ],
      "text/plain": [
       "        date   close_adj date_shift_1  close_adj_shift_1  close_adj_ret_1  \\\n",
       "0 2000-01-03  101.425385   2000-01-04          97.459068        -0.039106   \n",
       "1 2000-01-04   97.459068   2000-01-05          97.633377         0.001789   \n",
       "2 2000-01-05   97.633377   2000-01-06          96.064301        -0.016071   \n",
       "3 2000-01-06   96.064301   2000-01-07         101.643333         0.058076   \n",
       "4 2000-01-07  101.643333   2000-01-10         101.992004         0.003430   \n",
       "5 2000-01-10  101.992004   2000-01-11         100.771645        -0.011965   \n",
       "6 2000-01-11  100.771645   2000-01-12          99.769150        -0.009948   \n",
       "7 2000-01-12   99.769150   2000-01-13         101.120308         0.013543   \n",
       "8 2000-01-13  101.120308   2000-01-14         102.493233         0.013577   \n",
       "9 2000-01-14  102.493233   2000-01-18         101.686958        -0.007867   \n",
       "\n",
       "  date_shift_5  close_adj_shift_5  close_adj_ret_5  \n",
       "0   2000-01-10         101.992004         0.005587  \n",
       "1   2000-01-11         100.771645         0.033989  \n",
       "2   2000-01-12          99.769150         0.021875  \n",
       "3   2000-01-13         101.120308         0.052631  \n",
       "4   2000-01-14         102.493233         0.008362  \n",
       "5   2000-01-18         101.686958        -0.002991  \n",
       "6   2000-01-19         102.515060         0.017301  \n",
       "7   2000-01-20         100.945953         0.011795  \n",
       "8   2000-01-21         100.727989        -0.003880  \n",
       "9   2000-01-24          97.873047        -0.045078  "
      ]
     },
     "execution_count": 10,
     "metadata": {},
     "output_type": "execute_result"
    }
   ],
   "source": [
    "df[['date', 'close_adj', 'date_shift_1', 'close_adj_shift_1', 'close_adj_ret_1', \n",
    "    'date_shift_5', 'close_adj_shift_5', 'close_adj_ret_5']].head(10)"
   ]
  },
  {
   "cell_type": "code",
   "execution_count": null,
   "metadata": {},
   "outputs": [],
   "source": []
  },
  {
   "cell_type": "markdown",
   "metadata": {},
   "source": [
    "# Processing all the input variables"
   ]
  },
  {
   "cell_type": "markdown",
   "metadata": {},
   "source": [
    "On the data processing notebook, it was computed all the historical variables. Lets review them"
   ]
  },
  {
   "cell_type": "code",
   "execution_count": 11,
   "metadata": {},
   "outputs": [],
   "source": [
    "x_vars_all = list(filter(lambda varname: \n",
    "                ('_adj' in varname or 'volume' in varname)and\n",
    "                not '_shift_' in varname and\n",
    "                not '_std' in varname and\n",
    "                not '_norm' in varname and\n",
    "                not '_ret_' in varname, \n",
    "            df.columns))"
   ]
  },
  {
   "cell_type": "code",
   "execution_count": 12,
   "metadata": {},
   "outputs": [
    {
     "name": "stderr",
     "output_type": "stream",
     "text": [
      "2019-06-11 20:51:18,227 - INFO - 11698 - There are in total 53 dependent variables\n"
     ]
    }
   ],
   "source": [
    "logging.info('There are in total %d dependent variables', len(x_vars_all))"
   ]
  },
  {
   "cell_type": "markdown",
   "metadata": {},
   "source": [
    "Divive them by categories"
   ]
  },
  {
   "cell_type": "code",
   "execution_count": 13,
   "metadata": {},
   "outputs": [],
   "source": [
    "x_vars_slope = list(filter(lambda var: var.startswith('slope_'), x_vars_all))\n",
    "x_vars_sma = list(filter(lambda var: var.startswith('sma_'), x_vars_all))\n",
    "x_vars_ema = list(filter(lambda var: var.startswith('ema_'), x_vars_all))\n",
    "x_vars_lagged = list(filter(lambda var: var.startswith('lag_'), x_vars_all))\n",
    "x_vars_ratio_close_adj = list(filter(lambda var: var.startswith('ratio_close_adj_'), x_vars_all))\n",
    "x_vars_ratio_volume = list(filter(lambda var: var.startswith('ratio_volume_'), x_vars_all))"
   ]
  },
  {
   "cell_type": "code",
   "execution_count": null,
   "metadata": {},
   "outputs": [],
   "source": []
  },
  {
   "cell_type": "markdown",
   "metadata": {},
   "source": [
    "# Train the model"
   ]
  },
  {
   "cell_type": "markdown",
   "metadata": {},
   "source": [
    "On the backtest, the model is trained monthly. It means that each month, a new decision tree is built. On this example it is going to build a model with data until 2018-12-31, to be used on January 2019."
   ]
  },
  {
   "cell_type": "code",
   "execution_count": 23,
   "metadata": {},
   "outputs": [],
   "source": [
    "x_vars = ['open_adj', 'low_adj', 'high_adj']\n",
    "y_var = 'close_adj_shift_1'\n",
    "buy_price_col = 'close_adj'\n",
    "sell_price_col = 'close_adj_shift_1'\n",
    "model_class = DecisionTreeRegressor\n",
    "model_params = {'random_state': 100, 'max_depth': 9}\n",
    "train_history_period = relativedelta(years=6)\n",
    "ref_date = pd.to_datetime('2018-12-31')\n",
    "date_shift_col='date_shift_1'"
   ]
  },
  {
   "cell_type": "code",
   "execution_count": 26,
   "metadata": {},
   "outputs": [],
   "source": [
    "df_train = get_trailing_df(\n",
    "            df,\n",
    "            ref_date,\n",
    "            train_history_period,\n",
    "            date_col='date',\n",
    "            date_shift_col=date_shift_col,\n",
    "        )"
   ]
  },
  {
   "cell_type": "markdown",
   "metadata": {},
   "source": [
    "Get the training date ranges"
   ]
  },
  {
   "cell_type": "code",
   "execution_count": 33,
   "metadata": {},
   "outputs": [
    {
     "data": {
      "text/plain": [
       "(Timestamp('2012-12-31 00:00:00'), Timestamp('2018-12-27 00:00:00'))"
      ]
     },
     "execution_count": 33,
     "metadata": {},
     "output_type": "execute_result"
    }
   ],
   "source": [
    "df_train.date.min(), df_train.date.max()"
   ]
  },
  {
   "cell_type": "markdown",
   "metadata": {},
   "source": [
    "Train the model"
   ]
  },
  {
   "cell_type": "code",
   "execution_count": 34,
   "metadata": {},
   "outputs": [],
   "source": [
    "model = train_model(df_train, x_vars, y_var, model_class, model_params)"
   ]
  },
  {
   "cell_type": "code",
   "execution_count": null,
   "metadata": {},
   "outputs": [],
   "source": []
  },
  {
   "cell_type": "markdown",
   "metadata": {},
   "source": [
    "Save the tree representation in .dot"
   ]
  },
  {
   "cell_type": "code",
   "execution_count": 41,
   "metadata": {},
   "outputs": [],
   "source": [
    "filename = 'cart_tree.dot'\n",
    "export_graphviz(model, filename, feature_names=x_vars, node_ids=True, filled=True)"
   ]
  },
  {
   "cell_type": "markdown",
   "metadata": {},
   "source": [
    "Export to pdf and jpg (dot command has to be installed locally)"
   ]
  },
  {
   "cell_type": "code",
   "execution_count": 43,
   "metadata": {},
   "outputs": [
    {
     "name": "stdout",
     "output_type": "stream",
     "text": [
      "dot: graph is too large for cairo-renderer bitmaps. Scaling by 0.602645 to fit\r\n"
     ]
    }
   ],
   "source": [
    "! dot -Tjpg cart_tree.dot -o cart_tree.jpg"
   ]
  },
  {
   "cell_type": "code",
   "execution_count": 44,
   "metadata": {},
   "outputs": [],
   "source": [
    "! dot -Tpdf cart_tree.dot -o cart_tree.pdf"
   ]
  },
  {
   "cell_type": "markdown",
   "metadata": {},
   "source": [
    "On the links below could be seen CART tree trained on 2018-12-31 to be used in January 2019. It has a depth of 9 nodes, so the reader has to zoom in to be able to see the nodes content."
   ]
  },
  {
   "cell_type": "markdown",
   "metadata": {},
   "source": [
    "https://raw.githubusercontent.com/gmoncarz/machine_learning_tour/master/notebooks/07_decision_tree/regressor/cart_tree.jpg"
   ]
  },
  {
   "cell_type": "markdown",
   "metadata": {},
   "source": [
    "https://raw.githubusercontent.com/gmoncarz/machine_learning_tour/master/notebooks/07_decision_tree/regressor/cart_tree.pdf"
   ]
  },
  {
   "cell_type": "markdown",
   "metadata": {},
   "source": [
    "https://docs.google.com/viewer?url=https://raw.githubusercontent.com/gmoncarz/machine_learning_tour/master/notebooks/07_decision_tree/regressor/cart_tree.pdf"
   ]
  }
 ],
 "metadata": {
  "kernelspec": {
   "display_name": "Python 3",
   "language": "python",
   "name": "python3"
  },
  "language_info": {
   "codemirror_mode": {
    "name": "ipython",
    "version": 3
   },
   "file_extension": ".py",
   "mimetype": "text/x-python",
   "name": "python",
   "nbconvert_exporter": "python",
   "pygments_lexer": "ipython3",
   "version": "3.6.7"
  }
 },
 "nbformat": 4,
 "nbformat_minor": 2
}
