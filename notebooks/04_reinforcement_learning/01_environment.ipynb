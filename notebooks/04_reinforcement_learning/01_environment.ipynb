{
 "cells": [
  {
   "cell_type": "markdown",
   "metadata": {},
   "source": [
    "# Building a Reinforcement Learning Environment"
   ]
  },
  {
   "cell_type": "markdown",
   "metadata": {},
   "source": [
    "This notebook is going to create a Reinforcement Learning environment. The environment created is designed to work with a generic time serie to be applied to traditional shares."
   ]
  },
  {
   "cell_type": "code",
   "execution_count": 1,
   "metadata": {},
   "outputs": [],
   "source": [
    "import logging\n",
    "import imp\n",
    "import sys\n",
    "from six import StringIO"
   ]
  },
  {
   "cell_type": "code",
   "execution_count": 2,
   "metadata": {},
   "outputs": [],
   "source": [
    "import gym\n",
    "from gym import spaces, envs\n",
    "import pandas as pd\n",
    "import numpy as np"
   ]
  },
  {
   "cell_type": "code",
   "execution_count": 3,
   "metadata": {},
   "outputs": [],
   "source": [
    "sys.path.append('..')\n",
    "\n",
    "from helpers.dataset import read_quote_dataset, preprocess_quotes"
   ]
  },
  {
   "cell_type": "code",
   "execution_count": 4,
   "metadata": {},
   "outputs": [],
   "source": [
    "# Configir logging module for jypter notebook\n",
    "imp.reload(logging)\n",
    "# logging_format = '%(asctime)s - %(levelname)s - %(process)s - %(message)s'\n",
    "logging_format = '%(message)s'\n",
    "logging.basicConfig(level=logging.DEBUG, format=logging_format)\n",
    "\n",
    "# Disable backtesting logs\n",
    "# logging.getLogger('helpers.backtest').setLevel(level=logging.WARNING)"
   ]
  },
  {
   "cell_type": "markdown",
   "metadata": {},
   "source": [
    "# Load the Dataset"
   ]
  },
  {
   "cell_type": "code",
   "execution_count": 5,
   "metadata": {},
   "outputs": [],
   "source": [
    "PARAM_DATASET = '../../data/SPY_postprocess_adj.csv.gz'"
   ]
  },
  {
   "cell_type": "code",
   "execution_count": 6,
   "metadata": {},
   "outputs": [],
   "source": [
    "df = read_quote_dataset(PARAM_DATASET)"
   ]
  },
  {
   "cell_type": "code",
   "execution_count": 7,
   "metadata": {},
   "outputs": [],
   "source": [
    "# Set the date as index\n",
    "df.set_index('date', drop=False, inplace=True)"
   ]
  },
  {
   "cell_type": "code",
   "execution_count": 8,
   "metadata": {},
   "outputs": [
    {
     "data": {
      "text/html": [
       "<div>\n",
       "<style scoped>\n",
       "    .dataframe tbody tr th:only-of-type {\n",
       "        vertical-align: middle;\n",
       "    }\n",
       "\n",
       "    .dataframe tbody tr th {\n",
       "        vertical-align: top;\n",
       "    }\n",
       "\n",
       "    .dataframe thead th {\n",
       "        text-align: right;\n",
       "    }\n",
       "</style>\n",
       "<table border=\"1\" class=\"dataframe\">\n",
       "  <thead>\n",
       "    <tr style=\"text-align: right;\">\n",
       "      <th></th>\n",
       "      <th>date</th>\n",
       "      <th>open</th>\n",
       "      <th>high</th>\n",
       "      <th>low</th>\n",
       "      <th>close</th>\n",
       "      <th>close_adj</th>\n",
       "      <th>volume</th>\n",
       "      <th>open_adj</th>\n",
       "      <th>low_adj</th>\n",
       "      <th>high_adj</th>\n",
       "      <th>...</th>\n",
       "      <th>ratio_close_adj_000_close_adj_005_norm</th>\n",
       "      <th>ratio_close_adj_000_close_adj_020_norm</th>\n",
       "      <th>ratio_close_adj_000_ema_005_norm</th>\n",
       "      <th>ratio_close_adj_000_ema_010_norm</th>\n",
       "      <th>ratio_close_adj_000_ema_020_norm</th>\n",
       "      <th>ratio_close_adj_000_ema_050_norm</th>\n",
       "      <th>ratio_close_adj_000_sma_005_norm</th>\n",
       "      <th>ratio_close_adj_000_sma_010_norm</th>\n",
       "      <th>ratio_close_adj_000_sma_020_norm</th>\n",
       "      <th>ratio_close_adj_000_sma_050_norm</th>\n",
       "    </tr>\n",
       "    <tr>\n",
       "      <th>date</th>\n",
       "      <th></th>\n",
       "      <th></th>\n",
       "      <th></th>\n",
       "      <th></th>\n",
       "      <th></th>\n",
       "      <th></th>\n",
       "      <th></th>\n",
       "      <th></th>\n",
       "      <th></th>\n",
       "      <th></th>\n",
       "      <th></th>\n",
       "      <th></th>\n",
       "      <th></th>\n",
       "      <th></th>\n",
       "      <th></th>\n",
       "      <th></th>\n",
       "      <th></th>\n",
       "      <th></th>\n",
       "      <th></th>\n",
       "      <th></th>\n",
       "      <th></th>\n",
       "    </tr>\n",
       "  </thead>\n",
       "  <tbody>\n",
       "    <tr>\n",
       "      <th>2000-01-03</th>\n",
       "      <td>2000-01-03</td>\n",
       "      <td>148.250000</td>\n",
       "      <td>148.250000</td>\n",
       "      <td>143.875000</td>\n",
       "      <td>145.4375</td>\n",
       "      <td>101.425385</td>\n",
       "      <td>8164300</td>\n",
       "      <td>103.386770</td>\n",
       "      <td>100.335727</td>\n",
       "      <td>103.386770</td>\n",
       "      <td>...</td>\n",
       "      <td>NaN</td>\n",
       "      <td>NaN</td>\n",
       "      <td>NaN</td>\n",
       "      <td>NaN</td>\n",
       "      <td>NaN</td>\n",
       "      <td>NaN</td>\n",
       "      <td>NaN</td>\n",
       "      <td>NaN</td>\n",
       "      <td>NaN</td>\n",
       "      <td>NaN</td>\n",
       "    </tr>\n",
       "    <tr>\n",
       "      <th>2000-01-04</th>\n",
       "      <td>2000-01-04</td>\n",
       "      <td>143.531204</td>\n",
       "      <td>144.062500</td>\n",
       "      <td>139.640594</td>\n",
       "      <td>139.7500</td>\n",
       "      <td>97.459068</td>\n",
       "      <td>8089800</td>\n",
       "      <td>100.096010</td>\n",
       "      <td>97.382770</td>\n",
       "      <td>100.466526</td>\n",
       "      <td>...</td>\n",
       "      <td>NaN</td>\n",
       "      <td>NaN</td>\n",
       "      <td>NaN</td>\n",
       "      <td>NaN</td>\n",
       "      <td>NaN</td>\n",
       "      <td>NaN</td>\n",
       "      <td>NaN</td>\n",
       "      <td>NaN</td>\n",
       "      <td>NaN</td>\n",
       "      <td>NaN</td>\n",
       "    </tr>\n",
       "    <tr>\n",
       "      <th>2000-01-05</th>\n",
       "      <td>2000-01-05</td>\n",
       "      <td>139.937500</td>\n",
       "      <td>141.531204</td>\n",
       "      <td>137.250000</td>\n",
       "      <td>140.0000</td>\n",
       "      <td>97.633377</td>\n",
       "      <td>12177900</td>\n",
       "      <td>97.589791</td>\n",
       "      <td>95.715579</td>\n",
       "      <td>98.701210</td>\n",
       "      <td>...</td>\n",
       "      <td>NaN</td>\n",
       "      <td>NaN</td>\n",
       "      <td>NaN</td>\n",
       "      <td>NaN</td>\n",
       "      <td>NaN</td>\n",
       "      <td>NaN</td>\n",
       "      <td>NaN</td>\n",
       "      <td>NaN</td>\n",
       "      <td>NaN</td>\n",
       "      <td>NaN</td>\n",
       "    </tr>\n",
       "    <tr>\n",
       "      <th>2000-01-06</th>\n",
       "      <td>2000-01-06</td>\n",
       "      <td>139.625000</td>\n",
       "      <td>141.500000</td>\n",
       "      <td>137.750000</td>\n",
       "      <td>137.7500</td>\n",
       "      <td>96.064301</td>\n",
       "      <td>6227200</td>\n",
       "      <td>97.371891</td>\n",
       "      <td>96.064301</td>\n",
       "      <td>98.679482</td>\n",
       "      <td>...</td>\n",
       "      <td>NaN</td>\n",
       "      <td>NaN</td>\n",
       "      <td>0.486630</td>\n",
       "      <td>NaN</td>\n",
       "      <td>NaN</td>\n",
       "      <td>NaN</td>\n",
       "      <td>NaN</td>\n",
       "      <td>NaN</td>\n",
       "      <td>NaN</td>\n",
       "      <td>NaN</td>\n",
       "    </tr>\n",
       "    <tr>\n",
       "      <th>2000-01-07</th>\n",
       "      <td>2000-01-07</td>\n",
       "      <td>140.312500</td>\n",
       "      <td>145.750000</td>\n",
       "      <td>140.062500</td>\n",
       "      <td>145.7500</td>\n",
       "      <td>101.643333</td>\n",
       "      <td>8066500</td>\n",
       "      <td>97.851322</td>\n",
       "      <td>97.676977</td>\n",
       "      <td>101.643333</td>\n",
       "      <td>...</td>\n",
       "      <td>NaN</td>\n",
       "      <td>NaN</td>\n",
       "      <td>0.815422</td>\n",
       "      <td>NaN</td>\n",
       "      <td>NaN</td>\n",
       "      <td>NaN</td>\n",
       "      <td>0.740588</td>\n",
       "      <td>NaN</td>\n",
       "      <td>NaN</td>\n",
       "      <td>NaN</td>\n",
       "    </tr>\n",
       "  </tbody>\n",
       "</table>\n",
       "<p>5 rows × 173 columns</p>\n",
       "</div>"
      ],
      "text/plain": [
       "                 date        open        high         low     close  \\\n",
       "date                                                                  \n",
       "2000-01-03 2000-01-03  148.250000  148.250000  143.875000  145.4375   \n",
       "2000-01-04 2000-01-04  143.531204  144.062500  139.640594  139.7500   \n",
       "2000-01-05 2000-01-05  139.937500  141.531204  137.250000  140.0000   \n",
       "2000-01-06 2000-01-06  139.625000  141.500000  137.750000  137.7500   \n",
       "2000-01-07 2000-01-07  140.312500  145.750000  140.062500  145.7500   \n",
       "\n",
       "             close_adj    volume    open_adj     low_adj    high_adj  ...  \\\n",
       "date                                                                  ...   \n",
       "2000-01-03  101.425385   8164300  103.386770  100.335727  103.386770  ...   \n",
       "2000-01-04   97.459068   8089800  100.096010   97.382770  100.466526  ...   \n",
       "2000-01-05   97.633377  12177900   97.589791   95.715579   98.701210  ...   \n",
       "2000-01-06   96.064301   6227200   97.371891   96.064301   98.679482  ...   \n",
       "2000-01-07  101.643333   8066500   97.851322   97.676977  101.643333  ...   \n",
       "\n",
       "            ratio_close_adj_000_close_adj_005_norm  \\\n",
       "date                                                 \n",
       "2000-01-03                                     NaN   \n",
       "2000-01-04                                     NaN   \n",
       "2000-01-05                                     NaN   \n",
       "2000-01-06                                     NaN   \n",
       "2000-01-07                                     NaN   \n",
       "\n",
       "            ratio_close_adj_000_close_adj_020_norm  \\\n",
       "date                                                 \n",
       "2000-01-03                                     NaN   \n",
       "2000-01-04                                     NaN   \n",
       "2000-01-05                                     NaN   \n",
       "2000-01-06                                     NaN   \n",
       "2000-01-07                                     NaN   \n",
       "\n",
       "            ratio_close_adj_000_ema_005_norm  \\\n",
       "date                                           \n",
       "2000-01-03                               NaN   \n",
       "2000-01-04                               NaN   \n",
       "2000-01-05                               NaN   \n",
       "2000-01-06                          0.486630   \n",
       "2000-01-07                          0.815422   \n",
       "\n",
       "            ratio_close_adj_000_ema_010_norm  \\\n",
       "date                                           \n",
       "2000-01-03                               NaN   \n",
       "2000-01-04                               NaN   \n",
       "2000-01-05                               NaN   \n",
       "2000-01-06                               NaN   \n",
       "2000-01-07                               NaN   \n",
       "\n",
       "            ratio_close_adj_000_ema_020_norm  \\\n",
       "date                                           \n",
       "2000-01-03                               NaN   \n",
       "2000-01-04                               NaN   \n",
       "2000-01-05                               NaN   \n",
       "2000-01-06                               NaN   \n",
       "2000-01-07                               NaN   \n",
       "\n",
       "            ratio_close_adj_000_ema_050_norm  \\\n",
       "date                                           \n",
       "2000-01-03                               NaN   \n",
       "2000-01-04                               NaN   \n",
       "2000-01-05                               NaN   \n",
       "2000-01-06                               NaN   \n",
       "2000-01-07                               NaN   \n",
       "\n",
       "            ratio_close_adj_000_sma_005_norm  \\\n",
       "date                                           \n",
       "2000-01-03                               NaN   \n",
       "2000-01-04                               NaN   \n",
       "2000-01-05                               NaN   \n",
       "2000-01-06                               NaN   \n",
       "2000-01-07                          0.740588   \n",
       "\n",
       "            ratio_close_adj_000_sma_010_norm  \\\n",
       "date                                           \n",
       "2000-01-03                               NaN   \n",
       "2000-01-04                               NaN   \n",
       "2000-01-05                               NaN   \n",
       "2000-01-06                               NaN   \n",
       "2000-01-07                               NaN   \n",
       "\n",
       "            ratio_close_adj_000_sma_020_norm  ratio_close_adj_000_sma_050_norm  \n",
       "date                                                                            \n",
       "2000-01-03                               NaN                               NaN  \n",
       "2000-01-04                               NaN                               NaN  \n",
       "2000-01-05                               NaN                               NaN  \n",
       "2000-01-06                               NaN                               NaN  \n",
       "2000-01-07                               NaN                               NaN  \n",
       "\n",
       "[5 rows x 173 columns]"
      ]
     },
     "execution_count": 8,
     "metadata": {},
     "output_type": "execute_result"
    }
   ],
   "source": [
    "df.head()"
   ]
  },
  {
   "cell_type": "markdown",
   "metadata": {},
   "source": [
    "On reinforcement learning it is not needed to create the class, because there is no class. **Remember that it is not suppervised learning**. The equivalent to the class on supervised learning, is the reward that it is gotten on every step.\n",
    "\n",
    "So, there is no need of any preprocessing."
   ]
  },
  {
   "cell_type": "markdown",
   "metadata": {},
   "source": [
    "# Create the Reinforcement Learning Environment"
   ]
  },
  {
   "cell_type": "markdown",
   "metadata": {},
   "source": [
    "The environment class created is generic and implments the `gym.Env` interface. It receives as input any time serie, with any kind of columns that later will be used by the reinforcement learning algorithm. For each column, it has to be specified the minimum and the maximum value. There are two special entries:\n",
    "- The date,  which must be the index of the input dataframe.\n",
    "- A column which specifies the price tradable price (in general the close price). The name of the column is the content of the variable `price_col`.\n",
    "\n",
    "Some basic features of the environment created:\n",
    "- Allows to trade long or short according it is specified on params `with_long` or `with_short`.\n",
    "- Allows to constrain the training/testing periods setting `date_start` and `date_end`.\n",
    "- Allows to compute the reward as a nominal price (`reward_type='price'`) or as a percentage (`reward_type='pct'`).\n",
    "- Allows to internally standardize the input columns, to help the neural network convergence.\n",
    "\n",
    "The `gym.Env` methods implemented are:\n",
    "- reset\n",
    "- step\n",
    "- render"
   ]
  },
  {
   "cell_type": "code",
   "execution_count": 9,
   "metadata": {},
   "outputs": [],
   "source": [
    "class AssetTimeSerieEnv(gym.Env):\n",
    "    '''gym interface that implements a stock time series'''\n",
    "    metadata = {'render.modes': ['human', 'ansi']}\n",
    "    reward_range = (-np.inf, np.inf)\n",
    "\n",
    "    all_actions = {\n",
    "        'long_only': {\n",
    "            0: 'buy',\n",
    "            1: 'hold',\n",
    "            2: 'sell',\n",
    "        },\n",
    "        'short_only': {\n",
    "            0: 'short_sell',\n",
    "            1: 'hold',\n",
    "            2: 'buy_to_cover',\n",
    "        },\n",
    "        'long_short': {\n",
    "            0: 'buy',\n",
    "            1: 'hold',\n",
    "            2: 'sell',\n",
    "            3: 'short_sell',\n",
    "            4: 'buy_to_cover',\n",
    "        },\n",
    "    }\n",
    "\n",
    "    def __init__(self, data_df, input_cols, price_col, low_cols, high_cols,\n",
    "                 with_long=True, with_short=False,\n",
    "                 date_start=None, date_end=None,\n",
    "                 reward_type='pct', sort_index=False, std=False):\n",
    "        super(AssetTimeSerieEnv, self).__init__()\n",
    "\n",
    "        if with_long and with_short:\n",
    "            self.action_key = 'long_short'\n",
    "            position_min = -1\n",
    "            position_max = 1\n",
    "        elif with_long and not with_short:\n",
    "            self.action_key = 'long_only'\n",
    "            position_min = 0\n",
    "            position_max = 1\n",
    "        elif with_short and not with_long:\n",
    "            self.action_key = 'short_only'\n",
    "            position_min = -1\n",
    "            position_max = 0\n",
    "        else:\n",
    "            raise Exception('Mode no valid')\n",
    "\n",
    "        self.df = data_df\n",
    "        if sort_index:\n",
    "            self.df = self.df.sort_index()\n",
    "\n",
    "        self.input_cols = input_cols\n",
    "        self.price_col = price_col\n",
    "        self.with_long = with_long\n",
    "        self.with_short = with_short\n",
    "        self.reward_type = reward_type\n",
    "        self.std = std\n",
    "\n",
    "        if self.std:\n",
    "            new_colnames = ['%s_std' % col for col in input_cols]\n",
    "            df_std = (self.df[input_cols] - self.df[input_cols].mean()) / \\\n",
    "                self.df[input_cols].std()\n",
    "            self.df[new_colnames] = df_std\n",
    "            self.input_cols = new_colnames\n",
    "\n",
    "        if date_start is None:\n",
    "            self.date_start = self.df.iloc[0].name\n",
    "        else:\n",
    "            self.date_start = self.df.index[self.df.index >= date_start][0]\n",
    "\n",
    "        if date_end is None:\n",
    "            self.date_end = self.df.iloc[-1].name\n",
    "        else:\n",
    "            self.date_end = self.df.index[self.df.index <= date_end][-1]\n",
    "\n",
    "        if self.df.loc[self.date_start:self.date_end].shape[0] < 2:\n",
    "            raise Exception('At least 2 rows are need')\n",
    "\n",
    "        self.actions = self.all_actions[self.action_key]\n",
    "        self.action_space = spaces.Discrete(len(self.actions))\n",
    "        # self.observation_space = spaces.Box(\n",
    "        #     low=-np.inf, high=np.inf, shape=(1,), dtype=np.float32)\n",
    "        self.observation_space = spaces.Box(\n",
    "            low=np.array([position_min] + low_cols),\n",
    "            high=np.array([position_max] + high_cols),\n",
    "            dtype=np.float32,\n",
    "        )\n",
    "\n",
    "        self.current_date = None\n",
    "        self.position = 0\n",
    "        self.acum = 0\n",
    "        self._iter = None\n",
    "\n",
    "    def reset(self):\n",
    "        self.position = 0\n",
    "        self.buy_price = None\n",
    "        self.df_iter = self.df.loc[self.date_start:self.date_end].iterrows()\n",
    "\n",
    "        self.current_date, self.current_data = next(self.df_iter)\n",
    "\n",
    "        new_status = np.array(\n",
    "            [0] +  # Current position on asset\n",
    "            [self.current_data[col] for col in self.input_cols]\n",
    "        )\n",
    "        return new_status\n",
    "\n",
    "\n",
    "    def step(self, action):\n",
    "        action_str = self.actions[action]\n",
    "        next_date, next_data = next(self.df_iter)\n",
    "\n",
    "        if action_str == 'hold':\n",
    "            # Nothing to do\n",
    "            pass\n",
    "        elif action_str == 'buy':\n",
    "            self.position = 1\n",
    "            self.buy_price = self.current_data[self.price_col]\n",
    "        elif action_str == 'sell':\n",
    "            if self.position == 1:\n",
    "                self.position = 0\n",
    "                self.buy_price = None\n",
    "            else:\n",
    "                # Not possible\n",
    "                pass\n",
    "        elif action_str == 'short_sell':\n",
    "            self.position = -1\n",
    "            self.buy_price = self.current_data[self.price_col]\n",
    "        elif action_str == 'buy_to_cover':\n",
    "            if self.position == -1:\n",
    "                self.position = 0\n",
    "                self.buy_price = None\n",
    "\n",
    "        reward = self._compute_reward(next_data)\n",
    "        self.current_date, self.current_data = next_date, next_data\n",
    "        done = self.current_date.date() == self.date_end.date()\n",
    "\n",
    "        new_status = np.array(\n",
    "            [self.position] +  # Current position on asset\n",
    "            [self.current_data[col] for col in self.input_cols]\n",
    "        )\n",
    "        return new_status, reward, done, {}\n",
    "\n",
    "    def _compute_reward(self, next_data):\n",
    "        if self.position == 0:\n",
    "            reward = 0\n",
    "        elif self.reward_type == 'price':\n",
    "            reward = self.position * (\n",
    "                next_data[self.price_col] - self.current_data[self.price_col])\n",
    "        elif self.reward_type == 'pct':\n",
    "                reward = self.position * (next_data[self.price_col] - self.current_data[self.price_col]) / self.current_data[self.price_col]\n",
    "        else:\n",
    "            raise Exception('reward_type %s not implemented.' % self.reward_type)\n",
    "\n",
    "        return reward\n",
    "\n",
    "    def render(self, mode='human'):\n",
    "        outfile = StringIO() if mode == 'ansi' else sys.stdout\n",
    "\n",
    "        render_text_01 = ['date: %s' % self.current_date, 'position: %d' % self.position]\n",
    "        render_text_02 = ['%s: %f' % (col, self.current_data[col]) for col in self.input_cols]\n",
    "        render_text_03 = ['%s: %s' % (self.price_col, self.current_data[self.price_col])]\n",
    "        final_text = ' - '.join(render_text_01 + render_text_02 + render_text_03)\n",
    "\n",
    "        outfile.write(final_text)\n",
    "        outfile.write('\\n')"
   ]
  },
  {
   "cell_type": "code",
   "execution_count": null,
   "metadata": {},
   "outputs": [],
   "source": []
  },
  {
   "cell_type": "markdown",
   "metadata": {},
   "source": [
    "# Test our reinforcement learning environment"
   ]
  },
  {
   "cell_type": "code",
   "execution_count": 10,
   "metadata": {},
   "outputs": [],
   "source": [
    "input_cols = ['open_adj', 'low_adj', 'high_adj', 'close_adj', 'volume']"
   ]
  },
  {
   "cell_type": "markdown",
   "metadata": {},
   "source": [
    "Create our time serie environment with the following features:\n",
    "- using the OLHCV quotes (open, low, high, close and volume).\n",
    "- Allow long trades.\n",
    "- Allow short selling. \n",
    "- Working period: from 2018-01-01 to 2018-01-10.\n",
    "- Reward type: Percentage\n",
    "- No input standardization"
   ]
  },
  {
   "cell_type": "code",
   "execution_count": 11,
   "metadata": {},
   "outputs": [],
   "source": [
    "ts_env = AssetTimeSerieEnv(\n",
    "        data_df=df,\n",
    "        input_cols=input_cols,\n",
    "        price_col='close_adj',\n",
    "        low_cols=[0] * len(input_cols),\n",
    "        high_cols=[np.inf] * len(input_cols),\n",
    "        with_long=True,\n",
    "        with_short=True,\n",
    "        date_start=pd.to_datetime('2018-01-01'),\n",
    "        date_end=pd.to_datetime('2018-01-10'),\n",
    "        reward_type='pct',\n",
    "        std=False,\n",
    ")"
   ]
  },
  {
   "cell_type": "markdown",
   "metadata": {},
   "source": [
    "Reset our environment"
   ]
  },
  {
   "cell_type": "code",
   "execution_count": 12,
   "metadata": {
    "scrolled": true
   },
   "outputs": [
    {
     "data": {
      "text/plain": [
       "array([0.00000000e+00, 2.61694586e+02, 2.61264680e+02, 2.62642332e+02,\n",
       "       2.62603241e+02, 8.66557000e+07])"
      ]
     },
     "execution_count": 12,
     "metadata": {},
     "output_type": "execute_result"
    }
   ],
   "source": [
    "ts_env.reset()"
   ]
  },
  {
   "cell_type": "markdown",
   "metadata": {},
   "source": [
    "reset returns the initial state. The first value of the state represent the current possition on the given asset. If it allows long and short position, this first value could contains 3 possible values:\n",
    "- 0: no position on the asset\n",
    "- 1: long possition on the asset\n",
    "- -1: short possition on the asset.\n",
    "\n",
    "The next items of the status represents the values of each input columns, which should be the quotes of the first tradable day since 2018-01-01."
   ]
  },
  {
   "cell_type": "markdown",
   "metadata": {},
   "source": [
    "Lets verify the state calling the render method"
   ]
  },
  {
   "cell_type": "code",
   "execution_count": 13,
   "metadata": {},
   "outputs": [
    {
     "name": "stdout",
     "output_type": "stream",
     "text": [
      "date: 2018-01-02 00:00:00 - position: 0 - open_adj: 261.694586 - low_adj: 261.264680 - high_adj: 262.642332 - close_adj: 262.603241 - volume: 86655700.000000 - close_adj: 262.603241\n"
     ]
    }
   ],
   "source": [
    "ts_env.render()"
   ]
  },
  {
   "cell_type": "markdown",
   "metadata": {},
   "source": [
    "As there was no operation, the current status is no position, and the quotes available on 2018-01-02, which is the first tradable day."
   ]
  },
  {
   "cell_type": "markdown",
   "metadata": {},
   "source": [
    "Let execute an operation, which on reinforcement learning is called a step."
   ]
  },
  {
   "cell_type": "code",
   "execution_count": 14,
   "metadata": {},
   "outputs": [
    {
     "data": {
      "text/plain": [
       "{'buy': 0, 'hold': 1, 'sell': 2, 'short_sell': 3, 'buy_to_cover': 4}"
      ]
     },
     "execution_count": 14,
     "metadata": {},
     "output_type": "execute_result"
    }
   ],
   "source": [
    "actions = {value: key for key, value in AssetTimeSerieEnv.all_actions['long_short'].items()}\n",
    "actions"
   ]
  },
  {
   "cell_type": "markdown",
   "metadata": {},
   "source": [
    "There are 5 possible actions when it is allowed short selling:\n",
    "- Buy\n",
    "- Hold a possition\n",
    "- Sell (only applied when there was a previous buy)\n",
    "- Short sell\n",
    "- Buy to cover (onlu applied when there was a shortsell previosly)."
   ]
  },
  {
   "cell_type": "code",
   "execution_count": 15,
   "metadata": {},
   "outputs": [
    {
     "name": "stderr",
     "output_type": "stream",
     "text": [
      "new_state: [1.00000000e+00 2.62788857e+02 2.62788857e+02 2.64430334e+02\n",
      " 2.64264221e+02 9.00704000e+07]\n",
      "reward: 0.006325\n",
      "done: False\n"
     ]
    }
   ],
   "source": [
    "[new_state, reward, done, params] = ts_env.step(actions['buy'])\n",
    "logging.info('new_state: %s', new_state)\n",
    "logging.info('reward: %f', reward)\n",
    "logging.info('done: %s', done)"
   ]
  },
  {
   "cell_type": "markdown",
   "metadata": {},
   "source": [
    "After execute the buy, it returns:\n",
    "- the new state\n",
    "- the reward\n",
    "- if the environment is finished\n",
    "- an internal parameter (It is not used on this project)\n",
    "\n",
    "The first value of  the state is a 1, which validates that the buy was executed. The other values are the new quotes available. \n",
    "\n",
    "The `done` variable is false, which means the time serie hasn't ended.\n",
    "\n",
    "The reward is 0.006325, which means a 0.632%. It is because the new close price is 264.264221 and the previous close price was 262.603241 (look at the close_price after the `reset` method). Below it is verified that the reward was properly computed."
   ]
  },
  {
   "cell_type": "markdown",
   "metadata": {},
   "source": [
    "Check that the reward was properly computed"
   ]
  },
  {
   "cell_type": "code",
   "execution_count": 16,
   "metadata": {},
   "outputs": [
    {
     "data": {
      "text/plain": [
       "0.006325055218949087"
      ]
     },
     "execution_count": 16,
     "metadata": {},
     "output_type": "execute_result"
    }
   ],
   "source": [
    "(264.264221 - 262.603241) / 262.603241"
   ]
  },
  {
   "cell_type": "markdown",
   "metadata": {},
   "source": [
    "Lets verify the current state calling the `render` method"
   ]
  },
  {
   "cell_type": "code",
   "execution_count": 17,
   "metadata": {},
   "outputs": [
    {
     "name": "stdout",
     "output_type": "stream",
     "text": [
      "date: 2018-01-03 00:00:00 - position: 1 - open_adj: 262.788857 - low_adj: 262.788857 - high_adj: 264.430334 - close_adj: 264.264221 - volume: 90070400.000000 - close_adj: 264.264221\n"
     ]
    }
   ],
   "source": [
    "ts_env.render()"
   ]
  },
  {
   "cell_type": "markdown",
   "metadata": {},
   "source": [
    "On next available day, keep the same possition"
   ]
  },
  {
   "cell_type": "code",
   "execution_count": 18,
   "metadata": {},
   "outputs": [
    {
     "name": "stderr",
     "output_type": "stream",
     "text": [
      "new_state: [1.00000000e+00 2.64977486e+02 2.64332626e+02 2.65915451e+02\n",
      " 2.65378052e+02 8.06364000e+07]\n",
      "reward: 0.004215\n",
      "done: False\n"
     ]
    }
   ],
   "source": [
    "[new_state, reward, done, params] = ts_env.step(actions['hold'])\n",
    "logging.info('new_state: %s', new_state)\n",
    "logging.info('reward: %f', reward)\n",
    "logging.info('done: %s', done)"
   ]
  },
  {
   "cell_type": "code",
   "execution_count": 19,
   "metadata": {},
   "outputs": [
    {
     "name": "stdout",
     "output_type": "stream",
     "text": [
      "date: 2018-01-04 00:00:00 - position: 1 - open_adj: 264.977486 - low_adj: 264.332626 - high_adj: 265.915451 - close_adj: 265.378052 - volume: 80636400.000000 - close_adj: 265.378052\n"
     ]
    }
   ],
   "source": [
    "ts_env.render()"
   ]
  },
  {
   "cell_type": "markdown",
   "metadata": {},
   "source": [
    "The last step reward is 0.4215%."
   ]
  },
  {
   "cell_type": "markdown",
   "metadata": {},
   "source": [
    "Sell the position"
   ]
  },
  {
   "cell_type": "code",
   "execution_count": 20,
   "metadata": {},
   "outputs": [
    {
     "name": "stderr",
     "output_type": "stream",
     "text": [
      "new_state: [0.00000000e+00 2.66257422e+02 2.65710272e+02 2.67283318e+02\n",
      " 2.67146545e+02 8.35240000e+07]\n",
      "reward: 0.000000\n",
      "done: False\n"
     ]
    }
   ],
   "source": [
    "[new_state, reward, done, params] = ts_env.step(actions['sell'])\n",
    "logging.info('new_state: %s', new_state)\n",
    "logging.info('reward: %f', reward)\n",
    "logging.info('done: %s', done)"
   ]
  },
  {
   "cell_type": "code",
   "execution_count": 21,
   "metadata": {},
   "outputs": [
    {
     "name": "stdout",
     "output_type": "stream",
     "text": [
      "date: 2018-01-05 00:00:00 - position: 0 - open_adj: 266.257422 - low_adj: 265.710272 - high_adj: 267.283318 - close_adj: 267.146545 - volume: 83524000.000000 - close_adj: 267.146545\n"
     ]
    }
   ],
   "source": [
    "ts_env.render()"
   ]
  },
  {
   "cell_type": "markdown",
   "metadata": {},
   "source": [
    "As the position was solt, the new `position` value is 0."
   ]
  },
  {
   "cell_type": "markdown",
   "metadata": {},
   "source": [
    "Kepp uninvested (using the `hold` action)"
   ]
  },
  {
   "cell_type": "code",
   "execution_count": 22,
   "metadata": {},
   "outputs": [
    {
     "name": "stderr",
     "output_type": "stream",
     "text": [
      "new_state: [0.00000000e+00 2.67039052e+02 2.66716637e+02 2.67810934e+02\n",
      " 2.67635071e+02 5.73192000e+07]\n",
      "reward: 0.000000\n",
      "done: False\n"
     ]
    }
   ],
   "source": [
    "[new_state, reward, done, params] = ts_env.step(actions['hold'])\n",
    "logging.info('new_state: %s', new_state)\n",
    "logging.info('reward: %f', reward)\n",
    "logging.info('done: %s', done)"
   ]
  },
  {
   "cell_type": "code",
   "execution_count": 23,
   "metadata": {},
   "outputs": [
    {
     "name": "stdout",
     "output_type": "stream",
     "text": [
      "date: 2018-01-08 00:00:00 - position: 0 - open_adj: 267.039052 - low_adj: 266.716637 - high_adj: 267.810934 - close_adj: 267.635071 - volume: 57319200.000000 - close_adj: 267.635071\n"
     ]
    }
   ],
   "source": [
    "ts_env.render()"
   ]
  },
  {
   "cell_type": "markdown",
   "metadata": {},
   "source": [
    "As we are uninvested, the action's reward is 0 and the position is also 0.\n",
    "\n",
    "Now lets go short"
   ]
  },
  {
   "cell_type": "code",
   "execution_count": 24,
   "metadata": {},
   "outputs": [
    {
     "name": "stderr",
     "output_type": "stream",
     "text": [
      "new_state: [-1.00000000e+00  2.68104073e+02  2.67791408e+02  2.68934576e+02\n",
      "  2.68240875e+02  5.72540000e+07]\n",
      "reward: -0.002264\n",
      "done: False\n"
     ]
    }
   ],
   "source": [
    "[new_state, reward, done, params] = ts_env.step(actions['short_sell'])\n",
    "logging.info('new_state: %s', new_state)\n",
    "logging.info('reward: %f', reward)\n",
    "logging.info('done: %s', done)"
   ]
  },
  {
   "cell_type": "code",
   "execution_count": 25,
   "metadata": {},
   "outputs": [
    {
     "name": "stdout",
     "output_type": "stream",
     "text": [
      "date: 2018-01-09 00:00:00 - position: -1 - open_adj: 268.104073 - low_adj: 267.791408 - high_adj: 268.934576 - close_adj: 268.240875 - volume: 57254000.000000 - close_adj: 268.240875\n"
     ]
    }
   ],
   "source": [
    "ts_env.render()"
   ]
  },
  {
   "cell_type": "markdown",
   "metadata": {},
   "source": [
    "As we went short, the new `position` value is `-1`.\n",
    "\n",
    "As the asset was appreciated, going from 267.635071 to 268.240875, the reward is negative."
   ]
  },
  {
   "cell_type": "markdown",
   "metadata": {},
   "source": [
    "Keep the short position"
   ]
  },
  {
   "cell_type": "code",
   "execution_count": 26,
   "metadata": {},
   "outputs": [
    {
     "name": "stderr",
     "output_type": "stream",
     "text": [
      "new_state: [-1.00000000e+00  2.67400569e+02  2.66658026e+02  2.68123609e+02\n",
      "  2.67830475e+02  6.95743000e+07]\n",
      "reward: 0.001530\n",
      "done: True\n"
     ]
    }
   ],
   "source": [
    "[new_state, reward, done, params] = ts_env.step(actions['hold'])\n",
    "logging.info('new_state: %s', new_state)\n",
    "logging.info('reward: %f', reward)\n",
    "logging.info('done: %s', done)"
   ]
  },
  {
   "cell_type": "code",
   "execution_count": 27,
   "metadata": {},
   "outputs": [
    {
     "name": "stdout",
     "output_type": "stream",
     "text": [
      "date: 2018-01-10 00:00:00 - position: -1 - open_adj: 267.400569 - low_adj: 266.658026 - high_adj: 268.123609 - close_adj: 267.830475 - volume: 69574300.000000 - close_adj: 267.830475\n"
     ]
    }
   ],
   "source": [
    "ts_env.render()"
   ]
  },
  {
   "cell_type": "markdown",
   "metadata": {},
   "source": [
    "The reward is possitive, because the asset was depreciated, going from 268.240875 to 267.830475.\n",
    "\n",
    "On the other hand, `step` methods returuns that `done` variable is now True. This is because the date is 2018-01-10, which is the last valid date. It means that the environment finishes."
   ]
  },
  {
   "cell_type": "markdown",
   "metadata": {},
   "source": [
    "As the environment finished, it is not possible to call `step` method again. Lets see..."
   ]
  },
  {
   "cell_type": "code",
   "execution_count": 28,
   "metadata": {},
   "outputs": [
    {
     "ename": "StopIteration",
     "evalue": "",
     "output_type": "error",
     "traceback": [
      "\u001b[0;31m---------------------------------------------------------------------------\u001b[0m",
      "\u001b[0;31mStopIteration\u001b[0m                             Traceback (most recent call last)",
      "\u001b[0;32m<ipython-input-28-217c4f326553>\u001b[0m in \u001b[0;36m<module>\u001b[0;34m\u001b[0m\n\u001b[0;32m----> 1\u001b[0;31m \u001b[0mts_env\u001b[0m\u001b[0;34m.\u001b[0m\u001b[0mstep\u001b[0m\u001b[0;34m(\u001b[0m\u001b[0mactions\u001b[0m\u001b[0;34m[\u001b[0m\u001b[0;34m'hold'\u001b[0m\u001b[0;34m]\u001b[0m\u001b[0;34m)\u001b[0m\u001b[0;34m\u001b[0m\u001b[0;34m\u001b[0m\u001b[0m\n\u001b[0m",
      "\u001b[0;32m<ipython-input-9-cdc0139e218c>\u001b[0m in \u001b[0;36mstep\u001b[0;34m(self, action)\u001b[0m\n\u001b[1;32m    107\u001b[0m     \u001b[0;32mdef\u001b[0m \u001b[0mstep\u001b[0m\u001b[0;34m(\u001b[0m\u001b[0mself\u001b[0m\u001b[0;34m,\u001b[0m \u001b[0maction\u001b[0m\u001b[0;34m)\u001b[0m\u001b[0;34m:\u001b[0m\u001b[0;34m\u001b[0m\u001b[0;34m\u001b[0m\u001b[0m\n\u001b[1;32m    108\u001b[0m         \u001b[0maction_str\u001b[0m \u001b[0;34m=\u001b[0m \u001b[0mself\u001b[0m\u001b[0;34m.\u001b[0m\u001b[0mactions\u001b[0m\u001b[0;34m[\u001b[0m\u001b[0maction\u001b[0m\u001b[0;34m]\u001b[0m\u001b[0;34m\u001b[0m\u001b[0;34m\u001b[0m\u001b[0m\n\u001b[0;32m--> 109\u001b[0;31m         \u001b[0mnext_date\u001b[0m\u001b[0;34m,\u001b[0m \u001b[0mnext_data\u001b[0m \u001b[0;34m=\u001b[0m \u001b[0mnext\u001b[0m\u001b[0;34m(\u001b[0m\u001b[0mself\u001b[0m\u001b[0;34m.\u001b[0m\u001b[0mdf_iter\u001b[0m\u001b[0;34m)\u001b[0m\u001b[0;34m\u001b[0m\u001b[0;34m\u001b[0m\u001b[0m\n\u001b[0m\u001b[1;32m    110\u001b[0m \u001b[0;34m\u001b[0m\u001b[0m\n\u001b[1;32m    111\u001b[0m         \u001b[0;32mif\u001b[0m \u001b[0maction_str\u001b[0m \u001b[0;34m==\u001b[0m \u001b[0;34m'hold'\u001b[0m\u001b[0;34m:\u001b[0m\u001b[0;34m\u001b[0m\u001b[0;34m\u001b[0m\u001b[0m\n",
      "\u001b[0;31mStopIteration\u001b[0m: "
     ]
    }
   ],
   "source": [
    "ts_env.step(actions['hold'])"
   ]
  },
  {
   "cell_type": "markdown",
   "metadata": {},
   "source": [
    "The only way to call step again, is starting a new environment"
   ]
  },
  {
   "cell_type": "code",
   "execution_count": 29,
   "metadata": {},
   "outputs": [
    {
     "data": {
      "text/plain": [
       "array([0.00000000e+00, 2.61694586e+02, 2.61264680e+02, 2.62642332e+02,\n",
       "       2.62603241e+02, 8.66557000e+07])"
      ]
     },
     "execution_count": 29,
     "metadata": {},
     "output_type": "execute_result"
    }
   ],
   "source": [
    "ts_env.reset()"
   ]
  },
  {
   "cell_type": "code",
   "execution_count": 30,
   "metadata": {},
   "outputs": [
    {
     "name": "stdout",
     "output_type": "stream",
     "text": [
      "date: 2018-01-02 00:00:00 - position: 0 - open_adj: 261.694586 - low_adj: 261.264680 - high_adj: 262.642332 - close_adj: 262.603241 - volume: 86655700.000000 - close_adj: 262.603241\n"
     ]
    }
   ],
   "source": [
    "ts_env.render()"
   ]
  },
  {
   "cell_type": "code",
   "execution_count": 31,
   "metadata": {},
   "outputs": [
    {
     "data": {
      "text/plain": [
       "(array([-1.00000000e+00,  2.62788857e+02,  2.62788857e+02,  2.64430334e+02,\n",
       "         2.64264221e+02,  9.00704000e+07]), -0.006325055218949087, False, {})"
      ]
     },
     "execution_count": 31,
     "metadata": {},
     "output_type": "execute_result"
    }
   ],
   "source": [
    "ts_env.step(actions['short_sell'])"
   ]
  },
  {
   "cell_type": "code",
   "execution_count": null,
   "metadata": {},
   "outputs": [],
   "source": []
  }
 ],
 "metadata": {
  "kernelspec": {
   "display_name": "Python 3",
   "language": "python",
   "name": "python3"
  },
  "language_info": {
   "codemirror_mode": {
    "name": "ipython",
    "version": 3
   },
   "file_extension": ".py",
   "mimetype": "text/x-python",
   "name": "python",
   "nbconvert_exporter": "python",
   "pygments_lexer": "ipython3",
   "version": "3.6.7"
  }
 },
 "nbformat": 4,
 "nbformat_minor": 2
}
